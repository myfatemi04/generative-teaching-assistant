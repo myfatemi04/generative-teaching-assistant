{
 "cells": [
  {
   "cell_type": "code",
   "execution_count": 20,
   "metadata": {},
   "outputs": [],
   "source": [
    "import google.generativeai as genai\n",
    "import os\n",
    "from dotenv import load_dotenv\n",
    "\n",
    "load_dotenv()\n",
    "\n",
    "system_prompt = \"\"\"\n",
    "Pretend you are a teaching assistant in an Introduction to Data Structures and Algorithms course.\n",
    "You use a programmatic API to generate visual aids for students to help them understand the concepts.\n",
    "\"\"\"\n",
    "\n",
    "genai.configure(api_key=os.environ['GEMINI_API_KEY'])\n",
    "model = genai.GenerativeModel('models/gemini-1.5-pro-latest', system_instruction=system_prompt)\n"
   ]
  },
  {
   "cell_type": "code",
   "execution_count": 21,
   "metadata": {},
   "outputs": [
    {
     "name": "stdout",
     "output_type": "stream",
     "text": [
      "## Understanding Binary Tree Insertion\n",
      "\n",
      "Hey there!  Inserting into a binary tree involves some key rules to maintain its structure and ordering.  Let's break it down step-by-step and visualize it along the way!\n",
      "\n",
      "First, let's create a Binary Search Tree (BST) to work with:\n",
      "\n",
      "```python\n",
      "from bst import BinarySearchTree, generate_mermaid_diagram\n",
      "\n",
      "bst = BinarySearchTree()  # Initialize an empty BST\n",
      "```\n",
      "\n",
      "Now, let's visualize our empty BST:\n",
      "\n",
      "```python\n",
      "print(\"Empty BST:\")\n",
      "display(generate_mermaid_diagram(bst.root))\n",
      "```\n",
      "\n",
      "### The Insertion Process\n",
      "\n",
      "1. **Empty Tree:** If the tree is empty (the root is `None`), the inserted node becomes the root. \n",
      "\n",
      "2. **Non-Empty Tree:** \n",
      "    * **Comparison:** We compare the data of the new node with the root node's data.\n",
      "    * **Navigation:**\n",
      "        * If the data is **less** than the root's data, we move to the **left subtree** and repeat the comparison and navigation process.\n",
      "        * If the data is **greater** than the root's data, we move to the **right subtree** and repeat the comparison and navigation process.\n",
      "    * **Insertion:** We continue this process until we find an empty spot (a `None` child node) where we can insert the new node. \n",
      "\n",
      "Let's see this in action!\n",
      "\n",
      "### Example: Inserting Values\n",
      "\n",
      "Let's insert the value `8` into our BST:\n",
      "\n",
      "```python\n",
      "bst.insert(8)\n",
      "print(\"Inserting 8:\")\n",
      "display(generate_mermaid_diagram(bst.root))\n",
      "```\n",
      "\n",
      "Now, let's insert `3` and then `10`: \n",
      "\n",
      "```python\n",
      "bst.insert(3)\n",
      "print(\"Inserting 3:\")\n",
      "display(generate_mermaid_diagram(bst.root))\n",
      "\n",
      "bst.insert(10)\n",
      "print(\"Inserting 10:\")\n",
      "display(generate_mermaid_diagram(bst.root))\n",
      "```\n",
      "\n",
      "As you can see, the `3` was inserted to the left of `8` because it's smaller, and `10` was inserted to the right because it's larger.  This maintains the **ordering property** of the BST, where the left subtree always contains smaller values and the right subtree contains larger values.\n",
      "\n",
      "Let me know if you have any other questions or want to visualize more insertions! \n",
      "\n"
     ]
    }
   ],
   "source": [
    "student_query = \"What does an insert into a binary tree look like?\"\n",
    "\n",
    "prompt = f\"\"\"Answer the following question in an online forum from a student: {student_query}\n",
    "\n",
    "Here is an API:\n",
    "\n",
    "```python\n",
    "# bst.py\n",
    "class Node:\n",
    "    def __init__(self, data):\n",
    "        self.data = data\n",
    "        self.left = None\n",
    "        self.right = None\n",
    "\n",
    "class BinarySearchTree:\n",
    "    def __init__(self):\n",
    "        self.root = None\n",
    "\n",
    "    def insert(self, data):\n",
    "        if self.root is None:\n",
    "            self.root = Node(data)\n",
    "        else:\n",
    "            self._insert(data, self.root)\n",
    "\n",
    "    def _insert(self, data, node):\n",
    "        if data < node.data:\n",
    "            if node.left is None:\n",
    "                node.left = Node(data)\n",
    "            else:\n",
    "                self._insert(data, node.left)\n",
    "        else:\n",
    "            if node.right is None:\n",
    "                node.right = Node(data)\n",
    "            else:\n",
    "                self._insert(data, node.right)\n",
    "\n",
    "def generate_mermaid_diagram(node):\n",
    "    if node is None:\n",
    "        return \"\"\n",
    "\n",
    "    mermaid_str = \"\"\n",
    "    if node.left:\n",
    "        mermaid_str += f\"{{node.data}}(( {{node.data}} )) --> {{node.left.data}}(( {{node.left.data}} ))\\n\"\n",
    "        mermaid_str += generate_mermaid_diagram(node.left)\n",
    "    if node.right:\n",
    "        mermaid_str += f\"{{node.data}}(( {{node.data}} )) --> {{node.right.data}}(( {{node.right.data}} ))\\n\"\n",
    "        mermaid_str += generate_mermaid_diagram(node.right)\n",
    "    return mermaid_str\n",
    "```\n",
    "\n",
    "Please use this to generate diagrams. Use the `display()` function to display a Mermaid diagram to the user.\n",
    "\n",
    "Interleave some Python code with your explanation to help the student understand the concepts better. You may\n",
    "create a single BST object at the beginning of your explanation and use it throughout. Assume that the BST will\n",
    "be maintained throughout your response, but make sure to call the `display()` function after each operation you\n",
    "perform.\n",
    "\n",
    "Please do not add Mermaid diagrams yourself; only use the display() function.\n",
    "\"\"\"\n",
    "\n",
    "response = model.generate_content(prompt)\n",
    "print(response.text)\n"
   ]
  },
  {
   "cell_type": "code",
   "execution_count": 10,
   "metadata": {},
   "outputs": [
    {
     "ename": "TypeError",
     "evalue": "extendMarkdown() missing 1 required positional argument: 'md_globals'",
     "output_type": "error",
     "traceback": [
      "\u001b[0;31m---------------------------------------------------------------------------\u001b[0m",
      "\u001b[0;31mTypeError\u001b[0m                                 Traceback (most recent call last)",
      "Cell \u001b[0;32mIn[10], line 3\u001b[0m\n\u001b[1;32m      1\u001b[0m \u001b[38;5;28;01mimport\u001b[39;00m \u001b[38;5;21;01mmarkdown\u001b[39;00m\n\u001b[0;32m----> 3\u001b[0m html \u001b[38;5;241m=\u001b[39m \u001b[43mmarkdown\u001b[49m\u001b[38;5;241;43m.\u001b[39;49m\u001b[43mmarkdown\u001b[49m\u001b[43m(\u001b[49m\u001b[43mresponse\u001b[49m\u001b[38;5;241;43m.\u001b[39;49m\u001b[43mtext\u001b[49m\u001b[43m,\u001b[49m\u001b[43m \u001b[49m\u001b[43mextensions\u001b[49m\u001b[38;5;241;43m=\u001b[39;49m\u001b[43m[\u001b[49m\u001b[38;5;124;43m'\u001b[39;49m\u001b[38;5;124;43mmd_mermaid\u001b[39;49m\u001b[38;5;124;43m'\u001b[39;49m\u001b[43m]\u001b[49m\u001b[43m)\u001b[49m\n\u001b[1;32m      5\u001b[0m \u001b[38;5;28;01mwith\u001b[39;00m \u001b[38;5;28mopen\u001b[39m(\u001b[38;5;124m\"\u001b[39m\u001b[38;5;124moutput.html\u001b[39m\u001b[38;5;124m\"\u001b[39m, \u001b[38;5;124m\"\u001b[39m\u001b[38;5;124mw\u001b[39m\u001b[38;5;124m\"\u001b[39m) \u001b[38;5;28;01mas\u001b[39;00m f:\n\u001b[1;32m      6\u001b[0m     f\u001b[38;5;241m.\u001b[39mwrite(html)\n",
      "File \u001b[0;32m~/Code/2024/generative-teaching-assistant/env/lib/python3.9/site-packages/markdown/core.py:481\u001b[0m, in \u001b[0;36mmarkdown\u001b[0;34m(text, **kwargs)\u001b[0m\n\u001b[1;32m    463\u001b[0m \u001b[38;5;28;01mdef\u001b[39;00m \u001b[38;5;21mmarkdown\u001b[39m(text: \u001b[38;5;28mstr\u001b[39m, \u001b[38;5;241m*\u001b[39m\u001b[38;5;241m*\u001b[39mkwargs: Any) \u001b[38;5;241m-\u001b[39m\u001b[38;5;241m>\u001b[39m \u001b[38;5;28mstr\u001b[39m:\n\u001b[1;32m    464\u001b[0m \u001b[38;5;250m    \u001b[39m\u001b[38;5;124;03m\"\"\"\u001b[39;00m\n\u001b[1;32m    465\u001b[0m \u001b[38;5;124;03m    Convert a markdown string to HTML and return HTML as a Unicode string.\u001b[39;00m\n\u001b[1;32m    466\u001b[0m \n\u001b[0;32m   (...)\u001b[0m\n\u001b[1;32m    479\u001b[0m \n\u001b[1;32m    480\u001b[0m \u001b[38;5;124;03m    \"\"\"\u001b[39;00m\n\u001b[0;32m--> 481\u001b[0m     md \u001b[38;5;241m=\u001b[39m \u001b[43mMarkdown\u001b[49m\u001b[43m(\u001b[49m\u001b[38;5;241;43m*\u001b[39;49m\u001b[38;5;241;43m*\u001b[39;49m\u001b[43mkwargs\u001b[49m\u001b[43m)\u001b[49m\n\u001b[1;32m    482\u001b[0m     \u001b[38;5;28;01mreturn\u001b[39;00m md\u001b[38;5;241m.\u001b[39mconvert(text)\n",
      "File \u001b[0;32m~/Code/2024/generative-teaching-assistant/env/lib/python3.9/site-packages/markdown/core.py:126\u001b[0m, in \u001b[0;36mMarkdown.__init__\u001b[0;34m(self, **kwargs)\u001b[0m\n\u001b[1;32m    124\u001b[0m \u001b[38;5;28mself\u001b[39m\u001b[38;5;241m.\u001b[39mreferences: \u001b[38;5;28mdict\u001b[39m[\u001b[38;5;28mstr\u001b[39m, \u001b[38;5;28mtuple\u001b[39m[\u001b[38;5;28mstr\u001b[39m, \u001b[38;5;28mstr\u001b[39m]] \u001b[38;5;241m=\u001b[39m {}\n\u001b[1;32m    125\u001b[0m \u001b[38;5;28mself\u001b[39m\u001b[38;5;241m.\u001b[39mhtmlStash: util\u001b[38;5;241m.\u001b[39mHtmlStash \u001b[38;5;241m=\u001b[39m util\u001b[38;5;241m.\u001b[39mHtmlStash()\n\u001b[0;32m--> 126\u001b[0m \u001b[38;5;28;43mself\u001b[39;49m\u001b[38;5;241;43m.\u001b[39;49m\u001b[43mregisterExtensions\u001b[49m\u001b[43m(\u001b[49m\u001b[43mextensions\u001b[49m\u001b[38;5;241;43m=\u001b[39;49m\u001b[43mkwargs\u001b[49m\u001b[38;5;241;43m.\u001b[39;49m\u001b[43mget\u001b[49m\u001b[43m(\u001b[49m\u001b[38;5;124;43m'\u001b[39;49m\u001b[38;5;124;43mextensions\u001b[39;49m\u001b[38;5;124;43m'\u001b[39;49m\u001b[43m,\u001b[49m\u001b[43m \u001b[49m\u001b[43m[\u001b[49m\u001b[43m]\u001b[49m\u001b[43m)\u001b[49m\u001b[43m,\u001b[49m\n\u001b[1;32m    127\u001b[0m \u001b[43m                        \u001b[49m\u001b[43mconfigs\u001b[49m\u001b[38;5;241;43m=\u001b[39;49m\u001b[43mkwargs\u001b[49m\u001b[38;5;241;43m.\u001b[39;49m\u001b[43mget\u001b[49m\u001b[43m(\u001b[49m\u001b[38;5;124;43m'\u001b[39;49m\u001b[38;5;124;43mextension_configs\u001b[39;49m\u001b[38;5;124;43m'\u001b[39;49m\u001b[43m,\u001b[49m\u001b[43m \u001b[49m\u001b[43m{\u001b[49m\u001b[43m}\u001b[49m\u001b[43m)\u001b[49m\u001b[43m)\u001b[49m\n\u001b[1;32m    128\u001b[0m \u001b[38;5;28mself\u001b[39m\u001b[38;5;241m.\u001b[39mset_output_format(kwargs\u001b[38;5;241m.\u001b[39mget(\u001b[38;5;124m'\u001b[39m\u001b[38;5;124moutput_format\u001b[39m\u001b[38;5;124m'\u001b[39m, \u001b[38;5;124m'\u001b[39m\u001b[38;5;124mxhtml\u001b[39m\u001b[38;5;124m'\u001b[39m))\n\u001b[1;32m    129\u001b[0m \u001b[38;5;28mself\u001b[39m\u001b[38;5;241m.\u001b[39mreset()\n",
      "File \u001b[0;32m~/Code/2024/generative-teaching-assistant/env/lib/python3.9/site-packages/markdown/core.py:181\u001b[0m, in \u001b[0;36mMarkdown.registerExtensions\u001b[0;34m(self, extensions, configs)\u001b[0m\n\u001b[1;32m    179\u001b[0m     ext \u001b[38;5;241m=\u001b[39m \u001b[38;5;28mself\u001b[39m\u001b[38;5;241m.\u001b[39mbuild_extension(ext, configs\u001b[38;5;241m.\u001b[39mget(ext, {}))\n\u001b[1;32m    180\u001b[0m \u001b[38;5;28;01mif\u001b[39;00m \u001b[38;5;28misinstance\u001b[39m(ext, Extension):\n\u001b[0;32m--> 181\u001b[0m     \u001b[43mext\u001b[49m\u001b[38;5;241;43m.\u001b[39;49m\u001b[43mextendMarkdown\u001b[49m\u001b[43m(\u001b[49m\u001b[38;5;28;43mself\u001b[39;49m\u001b[43m)\u001b[49m\n\u001b[1;32m    182\u001b[0m     logger\u001b[38;5;241m.\u001b[39mdebug(\n\u001b[1;32m    183\u001b[0m         \u001b[38;5;124m'\u001b[39m\u001b[38;5;124mSuccessfully loaded extension \u001b[39m\u001b[38;5;124m\"\u001b[39m\u001b[38;5;132;01m%s\u001b[39;00m\u001b[38;5;124m.\u001b[39m\u001b[38;5;132;01m%s\u001b[39;00m\u001b[38;5;124m\"\u001b[39m\u001b[38;5;124m.\u001b[39m\u001b[38;5;124m'\u001b[39m\n\u001b[1;32m    184\u001b[0m         \u001b[38;5;241m%\u001b[39m (ext\u001b[38;5;241m.\u001b[39m\u001b[38;5;18m__class__\u001b[39m\u001b[38;5;241m.\u001b[39m\u001b[38;5;18m__module__\u001b[39m, ext\u001b[38;5;241m.\u001b[39m\u001b[38;5;18m__class__\u001b[39m\u001b[38;5;241m.\u001b[39m\u001b[38;5;18m__name__\u001b[39m)\n\u001b[1;32m    185\u001b[0m     )\n\u001b[1;32m    186\u001b[0m \u001b[38;5;28;01melif\u001b[39;00m ext \u001b[38;5;129;01mis\u001b[39;00m \u001b[38;5;129;01mnot\u001b[39;00m \u001b[38;5;28;01mNone\u001b[39;00m:\n",
      "\u001b[0;31mTypeError\u001b[0m: extendMarkdown() missing 1 required positional argument: 'md_globals'"
     ]
    }
   ],
   "source": [
    "import markdown\n",
    "\n",
    "html = markdown.markdown(response.text, extensions=['md_mermaid'])\n",
    "\n",
    "with open(\"output.html\", \"w\") as f:\n",
    "    f.write(html)\n"
   ]
  },
  {
   "cell_type": "code",
   "execution_count": 22,
   "metadata": {},
   "outputs": [],
   "source": [
    "from bst import BinarySearchTree, generate_mermaid_diagram\n",
    "\n",
    "bst = BinarySearchTree()  # Initialize an empty BST"
   ]
  },
  {
   "cell_type": "code",
   "execution_count": 23,
   "metadata": {},
   "outputs": [
    {
     "name": "stdout",
     "output_type": "stream",
     "text": [
      "Empty BST:\n",
      "\n"
     ]
    }
   ],
   "source": [
    "display = print\n",
    "\n",
    "print(\"Empty BST:\")\n",
    "display(generate_mermaid_diagram(bst.root))"
   ]
  },
  {
   "cell_type": "code",
   "execution_count": 27,
   "metadata": {},
   "outputs": [
    {
     "data": {
      "text/plain": [
       "8"
      ]
     },
     "execution_count": 27,
     "metadata": {},
     "output_type": "execute_result"
    }
   ],
   "source": [
    "bst.root.data"
   ]
  },
  {
   "cell_type": "code",
   "execution_count": 24,
   "metadata": {},
   "outputs": [
    {
     "name": "stdout",
     "output_type": "stream",
     "text": [
      "Inserting 8:\n",
      "\n"
     ]
    }
   ],
   "source": [
    "bst.insert(8)\n",
    "print(\"Inserting 8:\")\n",
    "display(generate_mermaid_diagram(bst.root))"
   ]
  },
  {
   "cell_type": "code",
   "execution_count": 28,
   "metadata": {},
   "outputs": [
    {
     "name": "stdout",
     "output_type": "stream",
     "text": [
      "Inserting 3:\n",
      "8(( 8 )) --> 3(( 3 ))\n",
      "\n"
     ]
    }
   ],
   "source": [
    "bst.insert(3)\n",
    "print(\"Inserting 3:\")\n",
    "display(generate_mermaid_diagram(bst.root))"
   ]
  },
  {
   "cell_type": "code",
   "execution_count": 29,
   "metadata": {},
   "outputs": [
    {
     "name": "stdout",
     "output_type": "stream",
     "text": [
      "Inserting 10:\n",
      "8(( 8 )) --> 3(( 3 ))\n",
      "8(( 8 )) --> 10(( 10 ))\n",
      "\n"
     ]
    }
   ],
   "source": [
    "bst.insert(10)\n",
    "print(\"Inserting 10:\")\n",
    "display(generate_mermaid_diagram(bst.root))"
   ]
  },
  {
   "cell_type": "code",
   "execution_count": null,
   "metadata": {},
   "outputs": [],
   "source": []
  }
 ],
 "metadata": {
  "kernelspec": {
   "display_name": "env",
   "language": "python",
   "name": "python3"
  },
  "language_info": {
   "codemirror_mode": {
    "name": "ipython",
    "version": 3
   },
   "file_extension": ".py",
   "mimetype": "text/x-python",
   "name": "python",
   "nbconvert_exporter": "python",
   "pygments_lexer": "ipython3",
   "version": "3.9.19"
  }
 },
 "nbformat": 4,
 "nbformat_minor": 2
}
