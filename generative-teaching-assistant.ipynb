{
 "cells": [
  {
   "cell_type": "code",
   "execution_count": null,
   "metadata": {},
   "outputs": [],
   "source": [
    "import google.generativeai as genai\n",
    "import os\n",
    "from dotenv import load_dotenv\n",
    "\n",
    "load_dotenv()\n",
    "\n",
    "genai.configure(api_key=os.environ['GEMINI_API_KEY'])\n",
    "model = genai.GenerativeModel('gemini-pro')\n"
   ]
  },
  {
   "cell_type": "code",
   "execution_count": 11,
   "metadata": {},
   "outputs": [
    {
     "name": "stdout",
     "output_type": "stream",
     "text": [
      "**Answer:**\n",
      "\n",
      "When inserting a new node into a binary tree, we start at the root and compare the value of the new node to the value of the current node. If the new node is less than the current node, we move to the left child. If the new node is greater than or equal to the current node, we move to the right child. We continue this process until we find a node that is `None`. This is where we insert the new node.\n",
      "\n",
      "**Diagram:**\n",
      "\n",
      "~~~mermaid\n",
      "graph LR\n",
      "    A[label=\"4\"] --> B[label=\"2\"]\n",
      "    A --> C[label=\"6\"]\n",
      "    B --> D[label=\"1\"]\n",
      "    B --> E[label=\"3\"]\n",
      "~~~\n",
      "\n",
      "**Python Code:**\n",
      "\n",
      "~~~python\n",
      "class Node:\n",
      "    def __init__(self, value):\n",
      "        self.value = value\n",
      "        self.left = None\n",
      "        self.right = None\n",
      "\n",
      "def insert(root, value):\n",
      "    if root is None:\n",
      "        return Node(value)\n",
      "    if value < root.value:\n",
      "        root.left = insert(root.left, value)\n",
      "    else:\n",
      "        root.right = insert(root.right, value)\n",
      "\n",
      "def to_mermaid(root):\n",
      "    if root is None:\n",
      "        return \"\"\n",
      "    left_mermaid = to_mermaid(root.left)\n",
      "    right_mermaid = to_mermaid(root.right)\n",
      "    return f\"{root.value} --> {left_mermaid}\\n{root.value} --> {right_mermaid}\"\n",
      "\n",
      "if __name__ == \"__main__\":\n",
      "    root = insert(None, 4)\n",
      "    insert(root, 2)\n",
      "    insert(root, 6)\n",
      "    insert(root, 1)\n",
      "    insert(root, 3)\n",
      "    print(to_mermaid(root))\n",
      "~~~\n"
     ]
    }
   ],
   "source": [
    "student_query = \"What does an insert into a binary tree look like?\"\n",
    "\n",
    "prompt = f\"\"\"\n",
    "Pretend you are a teaching assistant in an Introduction to Data Structures and Algorithms course, answering the following question\n",
    "in an online forum from a student: {student_query}\n",
    "\n",
    "As a helpful teaching assistant who explains through both textual and visual means, please answer the question first.\n",
    "Then, draw a diagram using Mermaid.js. Include this in the format \"~~~mermaid\\\\n <your diagram here> \\\\n~~~\".\n",
    "\n",
    "Also write a Python code snippet that generates a binary search tree. Include this in the format \"~~~python\\\\n <your code here> \\\\n~~~\".\n",
    "Also add a function where the Python code can be converted into a Mermaid diagram.\n",
    "\"\"\"\n",
    "\n",
    "response = model.generate_content(prompt)\n",
    "print(response.text)"
   ]
  },
  {
   "cell_type": "code",
   "execution_count": 10,
   "metadata": {},
   "outputs": [
    {
     "ename": "TypeError",
     "evalue": "extendMarkdown() missing 1 required positional argument: 'md_globals'",
     "output_type": "error",
     "traceback": [
      "\u001b[0;31m---------------------------------------------------------------------------\u001b[0m",
      "\u001b[0;31mTypeError\u001b[0m                                 Traceback (most recent call last)",
      "Cell \u001b[0;32mIn[10], line 3\u001b[0m\n\u001b[1;32m      1\u001b[0m \u001b[38;5;28;01mimport\u001b[39;00m \u001b[38;5;21;01mmarkdown\u001b[39;00m\n\u001b[0;32m----> 3\u001b[0m html \u001b[38;5;241m=\u001b[39m \u001b[43mmarkdown\u001b[49m\u001b[38;5;241;43m.\u001b[39;49m\u001b[43mmarkdown\u001b[49m\u001b[43m(\u001b[49m\u001b[43mresponse\u001b[49m\u001b[38;5;241;43m.\u001b[39;49m\u001b[43mtext\u001b[49m\u001b[43m,\u001b[49m\u001b[43m \u001b[49m\u001b[43mextensions\u001b[49m\u001b[38;5;241;43m=\u001b[39;49m\u001b[43m[\u001b[49m\u001b[38;5;124;43m'\u001b[39;49m\u001b[38;5;124;43mmd_mermaid\u001b[39;49m\u001b[38;5;124;43m'\u001b[39;49m\u001b[43m]\u001b[49m\u001b[43m)\u001b[49m\n\u001b[1;32m      5\u001b[0m \u001b[38;5;28;01mwith\u001b[39;00m \u001b[38;5;28mopen\u001b[39m(\u001b[38;5;124m\"\u001b[39m\u001b[38;5;124moutput.html\u001b[39m\u001b[38;5;124m\"\u001b[39m, \u001b[38;5;124m\"\u001b[39m\u001b[38;5;124mw\u001b[39m\u001b[38;5;124m\"\u001b[39m) \u001b[38;5;28;01mas\u001b[39;00m f:\n\u001b[1;32m      6\u001b[0m     f\u001b[38;5;241m.\u001b[39mwrite(html)\n",
      "File \u001b[0;32m~/Code/2024/generative-teaching-assistant/env/lib/python3.9/site-packages/markdown/core.py:481\u001b[0m, in \u001b[0;36mmarkdown\u001b[0;34m(text, **kwargs)\u001b[0m\n\u001b[1;32m    463\u001b[0m \u001b[38;5;28;01mdef\u001b[39;00m \u001b[38;5;21mmarkdown\u001b[39m(text: \u001b[38;5;28mstr\u001b[39m, \u001b[38;5;241m*\u001b[39m\u001b[38;5;241m*\u001b[39mkwargs: Any) \u001b[38;5;241m-\u001b[39m\u001b[38;5;241m>\u001b[39m \u001b[38;5;28mstr\u001b[39m:\n\u001b[1;32m    464\u001b[0m \u001b[38;5;250m    \u001b[39m\u001b[38;5;124;03m\"\"\"\u001b[39;00m\n\u001b[1;32m    465\u001b[0m \u001b[38;5;124;03m    Convert a markdown string to HTML and return HTML as a Unicode string.\u001b[39;00m\n\u001b[1;32m    466\u001b[0m \n\u001b[0;32m   (...)\u001b[0m\n\u001b[1;32m    479\u001b[0m \n\u001b[1;32m    480\u001b[0m \u001b[38;5;124;03m    \"\"\"\u001b[39;00m\n\u001b[0;32m--> 481\u001b[0m     md \u001b[38;5;241m=\u001b[39m \u001b[43mMarkdown\u001b[49m\u001b[43m(\u001b[49m\u001b[38;5;241;43m*\u001b[39;49m\u001b[38;5;241;43m*\u001b[39;49m\u001b[43mkwargs\u001b[49m\u001b[43m)\u001b[49m\n\u001b[1;32m    482\u001b[0m     \u001b[38;5;28;01mreturn\u001b[39;00m md\u001b[38;5;241m.\u001b[39mconvert(text)\n",
      "File \u001b[0;32m~/Code/2024/generative-teaching-assistant/env/lib/python3.9/site-packages/markdown/core.py:126\u001b[0m, in \u001b[0;36mMarkdown.__init__\u001b[0;34m(self, **kwargs)\u001b[0m\n\u001b[1;32m    124\u001b[0m \u001b[38;5;28mself\u001b[39m\u001b[38;5;241m.\u001b[39mreferences: \u001b[38;5;28mdict\u001b[39m[\u001b[38;5;28mstr\u001b[39m, \u001b[38;5;28mtuple\u001b[39m[\u001b[38;5;28mstr\u001b[39m, \u001b[38;5;28mstr\u001b[39m]] \u001b[38;5;241m=\u001b[39m {}\n\u001b[1;32m    125\u001b[0m \u001b[38;5;28mself\u001b[39m\u001b[38;5;241m.\u001b[39mhtmlStash: util\u001b[38;5;241m.\u001b[39mHtmlStash \u001b[38;5;241m=\u001b[39m util\u001b[38;5;241m.\u001b[39mHtmlStash()\n\u001b[0;32m--> 126\u001b[0m \u001b[38;5;28;43mself\u001b[39;49m\u001b[38;5;241;43m.\u001b[39;49m\u001b[43mregisterExtensions\u001b[49m\u001b[43m(\u001b[49m\u001b[43mextensions\u001b[49m\u001b[38;5;241;43m=\u001b[39;49m\u001b[43mkwargs\u001b[49m\u001b[38;5;241;43m.\u001b[39;49m\u001b[43mget\u001b[49m\u001b[43m(\u001b[49m\u001b[38;5;124;43m'\u001b[39;49m\u001b[38;5;124;43mextensions\u001b[39;49m\u001b[38;5;124;43m'\u001b[39;49m\u001b[43m,\u001b[49m\u001b[43m \u001b[49m\u001b[43m[\u001b[49m\u001b[43m]\u001b[49m\u001b[43m)\u001b[49m\u001b[43m,\u001b[49m\n\u001b[1;32m    127\u001b[0m \u001b[43m                        \u001b[49m\u001b[43mconfigs\u001b[49m\u001b[38;5;241;43m=\u001b[39;49m\u001b[43mkwargs\u001b[49m\u001b[38;5;241;43m.\u001b[39;49m\u001b[43mget\u001b[49m\u001b[43m(\u001b[49m\u001b[38;5;124;43m'\u001b[39;49m\u001b[38;5;124;43mextension_configs\u001b[39;49m\u001b[38;5;124;43m'\u001b[39;49m\u001b[43m,\u001b[49m\u001b[43m \u001b[49m\u001b[43m{\u001b[49m\u001b[43m}\u001b[49m\u001b[43m)\u001b[49m\u001b[43m)\u001b[49m\n\u001b[1;32m    128\u001b[0m \u001b[38;5;28mself\u001b[39m\u001b[38;5;241m.\u001b[39mset_output_format(kwargs\u001b[38;5;241m.\u001b[39mget(\u001b[38;5;124m'\u001b[39m\u001b[38;5;124moutput_format\u001b[39m\u001b[38;5;124m'\u001b[39m, \u001b[38;5;124m'\u001b[39m\u001b[38;5;124mxhtml\u001b[39m\u001b[38;5;124m'\u001b[39m))\n\u001b[1;32m    129\u001b[0m \u001b[38;5;28mself\u001b[39m\u001b[38;5;241m.\u001b[39mreset()\n",
      "File \u001b[0;32m~/Code/2024/generative-teaching-assistant/env/lib/python3.9/site-packages/markdown/core.py:181\u001b[0m, in \u001b[0;36mMarkdown.registerExtensions\u001b[0;34m(self, extensions, configs)\u001b[0m\n\u001b[1;32m    179\u001b[0m     ext \u001b[38;5;241m=\u001b[39m \u001b[38;5;28mself\u001b[39m\u001b[38;5;241m.\u001b[39mbuild_extension(ext, configs\u001b[38;5;241m.\u001b[39mget(ext, {}))\n\u001b[1;32m    180\u001b[0m \u001b[38;5;28;01mif\u001b[39;00m \u001b[38;5;28misinstance\u001b[39m(ext, Extension):\n\u001b[0;32m--> 181\u001b[0m     \u001b[43mext\u001b[49m\u001b[38;5;241;43m.\u001b[39;49m\u001b[43mextendMarkdown\u001b[49m\u001b[43m(\u001b[49m\u001b[38;5;28;43mself\u001b[39;49m\u001b[43m)\u001b[49m\n\u001b[1;32m    182\u001b[0m     logger\u001b[38;5;241m.\u001b[39mdebug(\n\u001b[1;32m    183\u001b[0m         \u001b[38;5;124m'\u001b[39m\u001b[38;5;124mSuccessfully loaded extension \u001b[39m\u001b[38;5;124m\"\u001b[39m\u001b[38;5;132;01m%s\u001b[39;00m\u001b[38;5;124m.\u001b[39m\u001b[38;5;132;01m%s\u001b[39;00m\u001b[38;5;124m\"\u001b[39m\u001b[38;5;124m.\u001b[39m\u001b[38;5;124m'\u001b[39m\n\u001b[1;32m    184\u001b[0m         \u001b[38;5;241m%\u001b[39m (ext\u001b[38;5;241m.\u001b[39m\u001b[38;5;18m__class__\u001b[39m\u001b[38;5;241m.\u001b[39m\u001b[38;5;18m__module__\u001b[39m, ext\u001b[38;5;241m.\u001b[39m\u001b[38;5;18m__class__\u001b[39m\u001b[38;5;241m.\u001b[39m\u001b[38;5;18m__name__\u001b[39m)\n\u001b[1;32m    185\u001b[0m     )\n\u001b[1;32m    186\u001b[0m \u001b[38;5;28;01melif\u001b[39;00m ext \u001b[38;5;129;01mis\u001b[39;00m \u001b[38;5;129;01mnot\u001b[39;00m \u001b[38;5;28;01mNone\u001b[39;00m:\n",
      "\u001b[0;31mTypeError\u001b[0m: extendMarkdown() missing 1 required positional argument: 'md_globals'"
     ]
    }
   ],
   "source": [
    "import markdown\n",
    "\n",
    "html = markdown.markdown(response.text, extensions=['md_mermaid'])\n",
    "\n",
    "with open(\"output.html\", \"w\") as f:\n",
    "    f.write(html)\n"
   ]
  },
  {
   "cell_type": "code",
   "execution_count": null,
   "metadata": {},
   "outputs": [],
   "source": []
  }
 ],
 "metadata": {
  "kernelspec": {
   "display_name": "env",
   "language": "python",
   "name": "python3"
  },
  "language_info": {
   "codemirror_mode": {
    "name": "ipython",
    "version": 3
   },
   "file_extension": ".py",
   "mimetype": "text/x-python",
   "name": "python",
   "nbconvert_exporter": "python",
   "pygments_lexer": "ipython3",
   "version": "3.9.19"
  }
 },
 "nbformat": 4,
 "nbformat_minor": 2
}
